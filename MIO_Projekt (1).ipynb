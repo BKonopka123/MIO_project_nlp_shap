{
  "cells": [
    {
      "cell_type": "markdown",
      "metadata": {
        "id": "uRyXoUtDbeSD"
      },
      "source": [
        "# Import"
      ]
    },
    {
      "cell_type": "code",
      "execution_count": 2,
      "metadata": {
        "id": "gkl1k77DT4fY"
      },
      "outputs": [
        {
          "name": "stderr",
          "output_type": "stream",
          "text": [
            "[nltk_data] Downloading package stopwords to\n",
            "[nltk_data]     /home/bkonopka/nltk_data...\n",
            "[nltk_data]   Package stopwords is already up-to-date!\n",
            "[nltk_data] Downloading package vader_lexicon to\n",
            "[nltk_data]     /home/bkonopka/nltk_data...\n",
            "[nltk_data]   Package vader_lexicon is already up-to-date!\n",
            "/home/bkonopka/miniconda3/envs/env39/lib/python3.9/site-packages/tqdm/auto.py:21: TqdmWarning: IProgress not found. Please update jupyter and ipywidgets. See https://ipywidgets.readthedocs.io/en/stable/user_install.html\n",
            "  from .autonotebook import tqdm as notebook_tqdm\n"
          ]
        }
      ],
      "source": [
        "import pandas as pd\n",
        "import re\n",
        "import string\n",
        "import nltk\n",
        "from nltk.corpus import stopwords\n",
        "from nltk.stem import SnowballStemmer\n",
        "nltk.download('stopwords')\n",
        "\n",
        "from nltk.sentiment.vader import SentimentIntensityAnalyzer\n",
        "nltk.download('vader_lexicon')\n",
        "\n",
        "import shap\n",
        "\n",
        "from sklearn.model_selection import train_test_split\n",
        "from sklearn.ensemble import RandomForestClassifier\n",
        "from sklearn.metrics import classification_report"
      ]
    },
    {
      "cell_type": "code",
      "execution_count": 3,
      "metadata": {
        "id": "5wHklK8lYNt_"
      },
      "outputs": [],
      "source": [
        "data = pd.read_csv('realdonaldtrump.csv')"
      ]
    },
    {
      "cell_type": "markdown",
      "metadata": {
        "id": "Lh7vQIR_bifX"
      },
      "source": [
        "# Preprocessing"
      ]
    },
    {
      "cell_type": "code",
      "execution_count": 4,
      "metadata": {
        "id": "bR9f282lbo2s"
      },
      "outputs": [],
      "source": [
        "def remove_url(content):\n",
        "    url = re.compile(r'https?://\\S+|www\\.\\S+')\n",
        "    return url.sub(r'',content)\n",
        "\n",
        "def remove_punct(content):\n",
        "    table = str.maketrans('', '', string.punctuation)\n",
        "    return content.translate(table)\n",
        "\n",
        "def remove_html(content):\n",
        "    html=re.compile(r'<.*?>')\n",
        "    return html.sub(r'',content)\n",
        "\n",
        "def remove_emoji(content):\n",
        "    emoji_pattern = re.compile(\"[\"\n",
        "                           u\"\\U0001F600-\\U0001F64F\"\n",
        "                           u\"\\U0001F300-\\U0001F5FF\"\n",
        "                           u\"\\U0001F680-\\U0001F6FF\"\n",
        "                           u\"\\U0001F1E0-\\U0001F1FF\"\n",
        "                           u\"\\U00002702-\\U000027B0\"\n",
        "                           u\"\\U000024C2-\\U0001F251\"\n",
        "                           \"]+\", flags=re.UNICODE)\n",
        "    return emoji_pattern.sub(r'', content)\n",
        "\n",
        "def decontraction(content):\n",
        "    content = re.sub(r\"won\\'t\", \" will not\", content)\n",
        "    content = re.sub(r\"won\\'t've\", \" will not have\", content)\n",
        "    content = re.sub(r\"can\\'t\", \" can not\", content)\n",
        "    content = re.sub(r\"don\\'t\", \" do not\", content)\n",
        "\n",
        "    content = re.sub(r\"can\\'t've\", \" can not have\", content)\n",
        "    content = re.sub(r\"ma\\'am\", \" madam\", content)\n",
        "    content = re.sub(r\"let\\'s\", \" let us\", content)\n",
        "    content = re.sub(r\"ain\\'t\", \" am not\", content)\n",
        "    content = re.sub(r\"shan\\'t\", \" shall not\", content)\n",
        "    content = re.sub(r\"sha\\n't\", \" shall not\", content)\n",
        "    content = re.sub(r\"o\\'clock\", \" of the clock\", content)\n",
        "    content = re.sub(r\"y\\'all\", \" you all\", content)\n",
        "\n",
        "    content = re.sub(r\"n\\'t\", \" not\", content)\n",
        "    content = re.sub(r\"n\\'t've\", \" not have\", content)\n",
        "    content = re.sub(r\"\\'re\", \" are\", content)\n",
        "    content = re.sub(r\"\\'s\", \" is\", content)\n",
        "    content = re.sub(r\"\\'d\", \" would\", content)\n",
        "    content = re.sub(r\"\\'d've\", \" would have\", content)\n",
        "    content = re.sub(r\"\\'ll\", \" will\", content)\n",
        "    content = re.sub(r\"\\'ll've\", \" will have\", content)\n",
        "    content = re.sub(r\"\\'t\", \" not\", content)\n",
        "    content = re.sub(r\"\\'ve\", \" have\", content)\n",
        "    content = re.sub(r\"\\'m\", \" am\", content)\n",
        "    content = re.sub(r\"\\'re\", \" are\", content)\n",
        "    return content\n",
        "\n",
        "def seperate_alphanumeric(content):\n",
        "    words = content\n",
        "    words = re.findall(r\"[^\\W\\d_]+|\\d+\", words)\n",
        "    return \" \".join(words)\n",
        "\n",
        "def cont_rep_char(content):\n",
        "    tchr = content.group(0)\n",
        "\n",
        "    if len(tchr) > 1:\n",
        "        return tchr[0:2]\n",
        "\n",
        "def unique_char(rep, content):\n",
        "    substitute = re.sub(r'(\\w)\\1+', rep, content)\n",
        "    return substitute\n",
        "\n",
        "data['content'] = data['content'].apply(lambda x : remove_url(x))\n",
        "data['content'] = data['content'].apply(lambda x : remove_punct(x))\n",
        "data['content'] = data['content'].apply(lambda x : remove_emoji(x))\n",
        "data['content'] = data['content'].apply(lambda x : decontraction(x))\n",
        "data['content'] = data['content'].apply(lambda x : seperate_alphanumeric(x))\n",
        "data['content'] = data['content'].apply(lambda x : unique_char(cont_rep_char,x))\n",
        "\n",
        "data=data.drop(['link','mentions','hashtags'], axis=1)\n",
        "stop_words=stopwords.words('english')\n",
        "stemmer=SnowballStemmer('english')\n",
        "\n",
        "def preprocess(text, stem=False):\n",
        "    tokens = []\n",
        "    for token in text.split():\n",
        "        if token not in stop_words:\n",
        "            if stem:\n",
        "                tokens.append(stemmer.stem(token))\n",
        "            else:\n",
        "                tokens.append(token)\n",
        "    return \" \".join(tokens)\n",
        "\n",
        "data['content'] = data['content'].apply(lambda x : preprocess(x))"
      ]
    },
    {
      "cell_type": "markdown",
      "metadata": {
        "id": "15x0WlzwcqtE"
      },
      "source": [
        "# Data presentation"
      ]
    },
    {
      "cell_type": "code",
      "execution_count": null,
      "metadata": {
        "colab": {
          "base_uri": "https://localhost:8080/"
        },
        "id": "8ia_W_Ceeoob",
        "outputId": "4a3f2cad-3e48-4a44-caa0-a0388a74e93a"
      },
      "outputs": [],
      "source": []
    },
    {
      "cell_type": "markdown",
      "metadata": {},
      "source": [
        "# NLP model"
      ]
    },
    {
      "cell_type": "code",
      "execution_count": 5,
      "metadata": {},
      "outputs": [
        {
          "data": {
            "text/html": [
              "<div>\n",
              "<style scoped>\n",
              "    .dataframe tbody tr th:only-of-type {\n",
              "        vertical-align: middle;\n",
              "    }\n",
              "\n",
              "    .dataframe tbody tr th {\n",
              "        vertical-align: top;\n",
              "    }\n",
              "\n",
              "    .dataframe thead th {\n",
              "        text-align: right;\n",
              "    }\n",
              "</style>\n",
              "<table border=\"1\" class=\"dataframe\">\n",
              "  <thead>\n",
              "    <tr style=\"text-align: right;\">\n",
              "      <th></th>\n",
              "      <th>number</th>\n",
              "      <th>content</th>\n",
              "      <th>compound</th>\n",
              "      <th>negative</th>\n",
              "      <th>neutral</th>\n",
              "      <th>positive</th>\n",
              "      <th>sentiment</th>\n",
              "    </tr>\n",
              "  </thead>\n",
              "  <tbody>\n",
              "    <tr>\n",
              "      <th>0</th>\n",
              "      <td>1</td>\n",
              "      <td>Be sure tune watch Donald Trump Late Night Dav...</td>\n",
              "      <td>0.4767</td>\n",
              "      <td>0.000</td>\n",
              "      <td>0.760</td>\n",
              "      <td>0.240</td>\n",
              "      <td>positive</td>\n",
              "    </tr>\n",
              "    <tr>\n",
              "      <th>1</th>\n",
              "      <td>2</td>\n",
              "      <td>Donald Trump appearing The View tomorrow morni...</td>\n",
              "      <td>0.7506</td>\n",
              "      <td>0.000</td>\n",
              "      <td>0.670</td>\n",
              "      <td>0.330</td>\n",
              "      <td>positive</td>\n",
              "    </tr>\n",
              "    <tr>\n",
              "      <th>2</th>\n",
              "      <td>3</td>\n",
              "      <td>Donald Trump reads Top Ten Financial Tips Late...</td>\n",
              "      <td>0.6115</td>\n",
              "      <td>0.000</td>\n",
              "      <td>0.688</td>\n",
              "      <td>0.312</td>\n",
              "      <td>positive</td>\n",
              "    </tr>\n",
              "    <tr>\n",
              "      <th>3</th>\n",
              "      <td>4</td>\n",
              "      <td>New Blog Post Celebrity Apprentice Finale Less...</td>\n",
              "      <td>0.0000</td>\n",
              "      <td>0.000</td>\n",
              "      <td>1.000</td>\n",
              "      <td>0.000</td>\n",
              "      <td>neutral</td>\n",
              "    </tr>\n",
              "    <tr>\n",
              "      <th>4</th>\n",
              "      <td>5</td>\n",
              "      <td>My persona never wallflower I rather build wal...</td>\n",
              "      <td>0.0000</td>\n",
              "      <td>0.000</td>\n",
              "      <td>1.000</td>\n",
              "      <td>0.000</td>\n",
              "      <td>neutral</td>\n",
              "    </tr>\n",
              "    <tr>\n",
              "      <th>...</th>\n",
              "      <td>...</td>\n",
              "      <td>...</td>\n",
              "      <td>...</td>\n",
              "      <td>...</td>\n",
              "      <td>...</td>\n",
              "      <td>...</td>\n",
              "      <td>...</td>\n",
              "    </tr>\n",
              "    <tr>\n",
              "      <th>43347</th>\n",
              "      <td>43348</td>\n",
              "      <td>Joe Biden TOTAL FAILURE Government He bungled ...</td>\n",
              "      <td>-0.6166</td>\n",
              "      <td>0.335</td>\n",
              "      <td>0.665</td>\n",
              "      <td>0.000</td>\n",
              "      <td>negative</td>\n",
              "    </tr>\n",
              "    <tr>\n",
              "      <th>43348</th>\n",
              "      <td>43349</td>\n",
              "      <td>Will interviewed seanhannity tonight 900 PM Enjoy</td>\n",
              "      <td>0.4939</td>\n",
              "      <td>0.000</td>\n",
              "      <td>0.652</td>\n",
              "      <td>0.348</td>\n",
              "      <td>positive</td>\n",
              "    </tr>\n",
              "    <tr>\n",
              "      <th>43349</th>\n",
              "      <td>43350</td>\n",
              "      <td>pictwittercom 3 lm 1 spbU 8 X</td>\n",
              "      <td>0.0000</td>\n",
              "      <td>0.000</td>\n",
              "      <td>1.000</td>\n",
              "      <td>0.000</td>\n",
              "      <td>neutral</td>\n",
              "    </tr>\n",
              "    <tr>\n",
              "      <th>43350</th>\n",
              "      <td>43351</td>\n",
              "      <td>pictwittercomvpCE 5 MadUz</td>\n",
              "      <td>0.0000</td>\n",
              "      <td>0.000</td>\n",
              "      <td>1.000</td>\n",
              "      <td>0.000</td>\n",
              "      <td>neutral</td>\n",
              "    </tr>\n",
              "    <tr>\n",
              "      <th>43351</th>\n",
              "      <td>43352</td>\n",
              "      <td>pictwittercomVLlc 0 BHW 41</td>\n",
              "      <td>0.0000</td>\n",
              "      <td>0.000</td>\n",
              "      <td>1.000</td>\n",
              "      <td>0.000</td>\n",
              "      <td>neutral</td>\n",
              "    </tr>\n",
              "  </tbody>\n",
              "</table>\n",
              "<p>43352 rows × 7 columns</p>\n",
              "</div>"
            ],
            "text/plain": [
              "       number                                            content  compound  \\\n",
              "0           1  Be sure tune watch Donald Trump Late Night Dav...    0.4767   \n",
              "1           2  Donald Trump appearing The View tomorrow morni...    0.7506   \n",
              "2           3  Donald Trump reads Top Ten Financial Tips Late...    0.6115   \n",
              "3           4  New Blog Post Celebrity Apprentice Finale Less...    0.0000   \n",
              "4           5  My persona never wallflower I rather build wal...    0.0000   \n",
              "...       ...                                                ...       ...   \n",
              "43347   43348  Joe Biden TOTAL FAILURE Government He bungled ...   -0.6166   \n",
              "43348   43349  Will interviewed seanhannity tonight 900 PM Enjoy    0.4939   \n",
              "43349   43350                      pictwittercom 3 lm 1 spbU 8 X    0.0000   \n",
              "43350   43351                          pictwittercomvpCE 5 MadUz    0.0000   \n",
              "43351   43352                         pictwittercomVLlc 0 BHW 41    0.0000   \n",
              "\n",
              "       negative  neutral  positive sentiment  \n",
              "0         0.000    0.760     0.240  positive  \n",
              "1         0.000    0.670     0.330  positive  \n",
              "2         0.000    0.688     0.312  positive  \n",
              "3         0.000    1.000     0.000   neutral  \n",
              "4         0.000    1.000     0.000   neutral  \n",
              "...         ...      ...       ...       ...  \n",
              "43347     0.335    0.665     0.000  negative  \n",
              "43348     0.000    0.652     0.348  positive  \n",
              "43349     0.000    1.000     0.000   neutral  \n",
              "43350     0.000    1.000     0.000   neutral  \n",
              "43351     0.000    1.000     0.000   neutral  \n",
              "\n",
              "[43352 rows x 7 columns]"
            ]
          },
          "execution_count": 5,
          "metadata": {},
          "output_type": "execute_result"
        }
      ],
      "source": [
        "sia = SentimentIntensityAnalyzer()\n",
        "\n",
        "def analyze_sentiment(sentence):\n",
        "    result = sia.polarity_scores(sentence)\n",
        "    return result['compound'], result['neg'], result['neu'], result['pos']\n",
        "\n",
        "data = data.dropna(subset=['content'])\n",
        "data['content'] = data['content'].astype(str)\n",
        "\n",
        "data['compound'], data['negative'], data['neutral'], data['positive'] = zip(*data['content'].apply(analyze_sentiment))\n",
        "\n",
        "def categorize_sentiment(compound):\n",
        "    if compound >= 0.05:\n",
        "        return 'positive'\n",
        "    elif compound <= -0.05:\n",
        "        return 'negative'\n",
        "    else:\n",
        "        return 'neutral'\n",
        "\n",
        "data['sentiment'] = data['compound'].apply(categorize_sentiment)\n",
        "\n",
        "data['number'] = [i+1 for i, _ in enumerate(data.iterrows())]\n",
        "data = data[['number'] + list(data.columns[:-1])]\n",
        "\n",
        "data = data.drop(columns=['id', 'retweets', 'favorites', 'date'])\n",
        "data"
      ]
    },
    {
      "cell_type": "markdown",
      "metadata": {},
      "source": [
        "# SHAP analysis"
      ]
    },
    {
      "cell_type": "code",
      "execution_count": 6,
      "metadata": {},
      "outputs": [
        {
          "name": "stdout",
          "output_type": "stream",
          "text": [
            "              precision    recall  f1-score   support\n",
            "\n",
            "    negative       1.00      1.00      1.00      2141\n",
            "     neutral       1.00      1.00      1.00      1588\n",
            "    positive       1.00      1.00      1.00      4942\n",
            "\n",
            "    accuracy                           1.00      8671\n",
            "   macro avg       1.00      1.00      1.00      8671\n",
            "weighted avg       1.00      1.00      1.00      8671\n",
            "\n"
          ]
        }
      ],
      "source": [
        "# Przygotowanie danych do modelu\n",
        "X = data[[ 'negative', 'neutral', 'positive', 'compound']]\n",
        "y = data['sentiment']\n",
        "\n",
        "# Podział na zbiór treningowy i testowy\n",
        "X_train, X_test, y_train, y_test = train_test_split(X, y, test_size=0.2, random_state=42)\n",
        "\n",
        "# Trening modelu Random Forest\n",
        "model = RandomForestClassifier(random_state=42)\n",
        "model.fit(X_train, y_train)\n",
        "\n",
        "# Predykcje na zbiorze testowym\n",
        "y_pred = model.predict(X_test)\n",
        "\n",
        "# Raport klasyfikacji\n",
        "print(classification_report(y_test, y_pred))"
      ]
    },
    {
      "cell_type": "code",
      "execution_count": 8,
      "metadata": {},
      "outputs": [
        {
          "data": {
            "image/png": "[encoded data removed]",
            "text/plain": [
              "<Figure size 1150x660 with 3 Axes>"
            ]
          },
          "metadata": {},
          "output_type": "display_data"
        },
        {
          "name": "stdout",
          "output_type": "stream",
          "text": [
            "   number  number                                            content  \\\n",
            "0       1       1  Be sure tune watch Donald Trump Late Night Dav...   \n",
            "1       2       2  Donald Trump appearing The View tomorrow morni...   \n",
            "2       3       3  Donald Trump reads Top Ten Financial Tips Late...   \n",
            "3       4       4  New Blog Post Celebrity Apprentice Finale Less...   \n",
            "4       5       5  My persona never wallflower I rather build wal...   \n",
            "\n",
            "   compound  negative  neutral  positive  \n",
            "0    0.4767       0.0    0.760     0.240  \n",
            "1    0.7506       0.0    0.670     0.330  \n",
            "2    0.6115       0.0    0.688     0.312  \n",
            "3    0.0000       0.0    1.000     0.000  \n",
            "4    0.0000       0.0    1.000     0.000  \n"
          ]
        }
      ],
      "source": [
        "# Analiza SHAP\n",
        "explainer = shap.TreeExplainer(model)\n",
        "shap_values = explainer.shap_values(X_test)\n",
        "\n",
        "# Wizualizacja wartości SHAP dla predykcji\n",
        "shap.summary_plot(shap_values, X_test)\n",
        "\n",
        "# Zapisanie wyników do nowego pliku CSV\n",
        "data['number'] = [i+1 for i, _ in enumerate(data.iterrows())]\n",
        "df = data[['number'] + list(data.columns[:-1])]\n",
        "df.to_csv('tweets_sentiment_with_model.csv', index=False)\n",
        "print(df.head())"
      ]
    }
  ],
  "metadata": {
    "accelerator": "GPU",
    "colab": {
      "gpuType": "T4",
      "provenance": []
    },
    "kernelspec": {
      "display_name": "Python 3",
      "name": "python3"
    },
    "language_info": {
      "codemirror_mode": {
        "name": "ipython",
        "version": 3
      },
      "file_extension": ".py",
      "mimetype": "text/x-python",
      "name": "python",
      "nbconvert_exporter": "python",
      "pygments_lexer": "ipython3",
      "version": "3.9.16"
    }
  },
  "nbformat": 4,
  "nbformat_minor": 0
}
