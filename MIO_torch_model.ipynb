{
  "cells": [
    {
      "cell_type": "markdown",
      "metadata": {
        "id": "uRyXoUtDbeSD"
      },
      "source": [
        "# Import"
      ]
    },
    {
      "cell_type": "code",
      "execution_count": 2,
      "metadata": {
        "colab": {
          "base_uri": "https://localhost:8080/"
        },
        "id": "RX4UZzT2vwQS",
        "outputId": "734288fa-493d-415d-fdb7-be720c9608e4"
      },
      "outputs": [
        {
          "name": "stdout",
          "output_type": "stream",
          "text": [
            "Defaulting to user installation because normal site-packages is not writeable\n",
            "Requirement already satisfied: shap in /home/skolanko/.local/lib/python3.10/site-packages (0.45.1)\n",
            "Requirement already satisfied: numba in /home/skolanko/.local/lib/python3.10/site-packages (from shap) (0.59.1)\n",
            "Requirement already satisfied: scikit-learn in /home/skolanko/.local/lib/python3.10/site-packages (from shap) (1.4.1.post1)\n",
            "Requirement already satisfied: numpy in /home/skolanko/.local/lib/python3.10/site-packages (from shap) (1.26.2)\n",
            "Requirement already satisfied: slicer==0.0.8 in /home/skolanko/.local/lib/python3.10/site-packages (from shap) (0.0.8)\n",
            "Requirement already satisfied: scipy in /home/skolanko/.local/lib/python3.10/site-packages (from shap) (1.12.0)\n",
            "Requirement already satisfied: cloudpickle in /home/skolanko/.local/lib/python3.10/site-packages (from shap) (3.0.0)\n",
            "Requirement already satisfied: pandas in /home/skolanko/.local/lib/python3.10/site-packages (from shap) (2.2.1)\n",
            "Requirement already satisfied: packaging>20.9 in /home/skolanko/.local/lib/python3.10/site-packages (from shap) (23.2)\n",
            "Requirement already satisfied: tqdm>=4.27.0 in /home/skolanko/.local/lib/python3.10/site-packages (from shap) (4.66.2)\n",
            "Requirement already satisfied: llvmlite<0.43,>=0.42.0dev0 in /home/skolanko/.local/lib/python3.10/site-packages (from numba->shap) (0.42.0)\n",
            "Requirement already satisfied: pytz>=2020.1 in /home/skolanko/.local/lib/python3.10/site-packages (from pandas->shap) (2024.1)\n",
            "Requirement already satisfied: tzdata>=2022.7 in /home/skolanko/.local/lib/python3.10/site-packages (from pandas->shap) (2024.1)\n",
            "Requirement already satisfied: python-dateutil>=2.8.2 in /home/skolanko/.local/lib/python3.10/site-packages (from pandas->shap) (2.8.2)\n",
            "Requirement already satisfied: threadpoolctl>=2.0.0 in /home/skolanko/.local/lib/python3.10/site-packages (from scikit-learn->shap) (3.3.0)\n",
            "Requirement already satisfied: joblib>=1.2.0 in /home/skolanko/.local/lib/python3.10/site-packages (from scikit-learn->shap) (1.3.2)\n",
            "Requirement already satisfied: six>=1.5 in /usr/lib/python3/dist-packages (from python-dateutil>=2.8.2->pandas->shap) (1.16.0)\n",
            "Defaulting to user installation because normal site-packages is not writeable\n",
            "Requirement already satisfied: catboost in /home/skolanko/.local/lib/python3.10/site-packages (1.2.5)\n",
            "Requirement already satisfied: matplotlib in /home/skolanko/.local/lib/python3.10/site-packages (from catboost) (3.8.2)\n",
            "Requirement already satisfied: six in /usr/lib/python3/dist-packages (from catboost) (1.16.0)\n",
            "Requirement already satisfied: pandas>=0.24 in /home/skolanko/.local/lib/python3.10/site-packages (from catboost) (2.2.1)\n",
            "Requirement already satisfied: numpy>=1.16.0 in /home/skolanko/.local/lib/python3.10/site-packages (from catboost) (1.26.2)\n",
            "Requirement already satisfied: graphviz in /home/skolanko/.local/lib/python3.10/site-packages (from catboost) (0.20.3)\n",
            "Requirement already satisfied: scipy in /home/skolanko/.local/lib/python3.10/site-packages (from catboost) (1.12.0)\n",
            "Requirement already satisfied: plotly in /home/skolanko/.local/lib/python3.10/site-packages (from catboost) (5.22.0)\n",
            "Requirement already satisfied: pytz>=2020.1 in /home/skolanko/.local/lib/python3.10/site-packages (from pandas>=0.24->catboost) (2024.1)\n",
            "Requirement already satisfied: tzdata>=2022.7 in /home/skolanko/.local/lib/python3.10/site-packages (from pandas>=0.24->catboost) (2024.1)\n",
            "Requirement already satisfied: python-dateutil>=2.8.2 in /home/skolanko/.local/lib/python3.10/site-packages (from pandas>=0.24->catboost) (2.8.2)\n",
            "Requirement already satisfied: contourpy>=1.0.1 in /home/skolanko/.local/lib/python3.10/site-packages (from matplotlib->catboost) (1.2.0)\n",
            "Requirement already satisfied: cycler>=0.10 in /home/skolanko/.local/lib/python3.10/site-packages (from matplotlib->catboost) (0.12.1)\n",
            "Requirement already satisfied: pyparsing>=2.3.1 in /usr/lib/python3/dist-packages (from matplotlib->catboost) (2.4.7)\n",
            "Requirement already satisfied: kiwisolver>=1.3.1 in /home/skolanko/.local/lib/python3.10/site-packages (from matplotlib->catboost) (1.4.5)\n",
            "Requirement already satisfied: fonttools>=4.22.0 in /home/skolanko/.local/lib/python3.10/site-packages (from matplotlib->catboost) (4.47.0)\n",
            "Requirement already satisfied: pillow>=8 in /home/skolanko/.local/lib/python3.10/site-packages (from matplotlib->catboost) (10.1.0)\n",
            "Requirement already satisfied: packaging>=20.0 in /home/skolanko/.local/lib/python3.10/site-packages (from matplotlib->catboost) (23.2)\n",
            "Requirement already satisfied: tenacity>=6.2.0 in /home/skolanko/.local/lib/python3.10/site-packages (from plotly->catboost) (8.3.0)\n"
          ]
        }
      ],
      "source": [
        "!pip install shap\n",
        "!pip install catboost"
      ]
    },
    {
      "cell_type": "code",
      "execution_count": 3,
      "metadata": {
        "colab": {
          "base_uri": "https://localhost:8080/",
          "height": 401
        },
        "id": "gkl1k77DT4fY",
        "outputId": "b4cf6d25-1507-42df-a9b4-846744aa72bd"
      },
      "outputs": [
        {
          "name": "stderr",
          "output_type": "stream",
          "text": [
            "[nltk_data] Downloading package stopwords to\n",
            "[nltk_data]     /home/skolanko/nltk_data...\n",
            "[nltk_data]   Package stopwords is already up-to-date!\n",
            "[nltk_data] Downloading package vader_lexicon to\n",
            "[nltk_data]     /home/skolanko/nltk_data...\n",
            "[nltk_data]   Package vader_lexicon is already up-to-date!\n"
          ]
        }
      ],
      "source": [
        "# Podstawowe biblioteki\n",
        "import pandas as pd\n",
        "import re\n",
        "import string\n",
        "import matplotlib.pyplot as plt\n",
        "import numpy as np\n",
        "\n",
        "# Biblioteka SHAP\n",
        "import shap\n",
        "\n",
        "# Biblioteka do analizy tekstu, oraz do klasyfikacji\n",
        "import nltk\n",
        "# from nltk.sentiment.vader import SentimentIntensityAnalyzer\n",
        "# from nltk.stem import SnowballStemmer\n",
        "from nltk.corpus import stopwords\n",
        "nltk.download('stopwords')\n",
        "nltk.download('vader_lexicon')\n",
        "\n",
        "# Bilbioteka WordCloud\n",
        "from wordcloud import WordCloud\n",
        "\n",
        "# Biblioteka do klasyfikacji, oraz odpowiednie modele\n",
        "from sklearn.model_selection import train_test_split\n",
        "# from sklearn.metrics import classification_report\n",
        "from sklearn.preprocessing import LabelEncoder\n",
        "# from sklearn.ensemble import RandomForestClassifier\n",
        "# import xgboost as xgb\n",
        "# from catboost import CatBoostClassifier\n",
        "\n",
        "# Biblioteka Transformers\n",
        "# import transformers\n",
        "# from transformers import BertTokenizer\n",
        "# from transformers import TFAutoModel"
      ]
    },
    {
      "cell_type": "markdown",
      "metadata": {
        "id": "Lh7vQIR_bifX"
      },
      "source": [
        "# Preprocessing"
      ]
    },
    {
      "cell_type": "code",
      "execution_count": 58,
      "metadata": {
        "id": "bR9f282lbo2s"
      },
      "outputs": [],
      "source": [
        "data = pd.read_csv('Twitter.csv', nrows=40000)\n",
        "# rename columns\n",
        "data = data.rename(columns={'clean_text': 'text',\"category\":\"sentiment\"})\n",
        "\n",
        "\n",
        "#zamień sentyment na słowa 1: 'positive', 0: 'neutral', -1: 'negative' a dla innego na neutral\n",
        "data['sentiment'] = data['sentiment'].replace(1, 'positive')\n",
        "data['sentiment'] = data['sentiment'].replace(0, 'neutral')\n",
        "data['sentiment'] = data['sentiment'].replace(-1, 'negative')\n",
        "\n",
        "valid_sentiments = [\"positive\", \"neutral\", \"negative\"]\n",
        "data = data[data['sentiment'].isin(valid_sentiments)]\n",
        "\n",
        "data['text'] = data['text'].astype(str)\n",
        "\n",
        "# Usunięcie url z treści\n",
        "def remove_url(text):\n",
        "    url = re.compile(r'https?://\\S+|www\\.\\S+')\n",
        "    return url.sub(r'',text)\n",
        "\n",
        "# Usunięcie mentionów\n",
        "def remove_ment(text):\n",
        "    mention1 = re.compile(r'@ \\w+')\n",
        "    mention2 = re.compile(r'@\\w+')\n",
        "    text = mention1.sub(r'',text)\n",
        "    return mention2.sub(r'',text)\n",
        "\n",
        "# Usunięcie znaków interpunkcyjnych\n",
        "def remove_punct(text):\n",
        "    table = str.maketrans('', '', string.punctuation + \"“”\")\n",
        "    return text.translate(table)\n",
        "\n",
        "# Usunięcie html\n",
        "def remove_html(text):\n",
        "    html=re.compile(r'<.*?>')\n",
        "    return html.sub(r'',text)\n",
        "\n",
        "# Usunięcie emotikonów\n",
        "def remove_emoji(text):\n",
        "    emoji_pattern = re.compile(\"[\"\n",
        "        u\"\\U0001F600-\\U0001F64F\"\n",
        "        u\"\\U0001F300-\\U0001F5FF\"\n",
        "        u\"\\U0001F680-\\U0001F6FF\"\n",
        "        u\"\\U0001F1E0-\\U0001F1FF\"\n",
        "        u\"\\U00002702-\\U000027B0\"\n",
        "        u\"\\U000024C2-\\U0001F251\"\n",
        "        \"]+\", flags=re.UNICODE)\n",
        "    return emoji_pattern.sub(r'', text)\n",
        "\n",
        "# Znalezienie powtarzających się znaków\n",
        "def cont_rep_char(text):\n",
        "    tchr = text.group(0)\n",
        "    if len(tchr) > 1:\n",
        "        return tchr[0:2]\n",
        "\n",
        "# Usunięcie powtarzających się znaków\n",
        "def unique_char(rep, text):\n",
        "    substitute = re.sub(r'(\\w)\\1+', rep, text)\n",
        "    return substitute\n",
        "\n",
        "# Usunięcie stop words ale nie usuwaj not\n",
        "stop_words = stopwords.words('english')\n",
        "stop_words = set(stopwords.words('english'))\n",
        "stop_words.remove('not')\n",
        "stop_words.remove('no')\n",
        "stop_words.remove('nor')\n",
        "\n",
        "def remove_stopwords(text):\n",
        "    tokens = []\n",
        "    for token in text.split():\n",
        "        if token not in stop_words:\n",
        "            tokens.append(token)\n",
        "    return \" \".join(tokens)\n",
        "\n",
        "\n",
        "\n",
        "# funkcja czyszcząca dane\n",
        "\n",
        "def all_clean(text):\n",
        "    text = text.lower()\n",
        "    text = remove_url(text)\n",
        "    text = remove_ment(text)\n",
        "    text = remove_punct(text)\n",
        "    text = remove_emoji(text)\n",
        "    text = unique_char(cont_rep_char,text)\n",
        "    text = remove_stopwords(text)\n",
        "    return text\n",
        "\n",
        "# print type of data\n",
        "\n",
        "# Ustawienie wszystkich liter na małe\n",
        "data['text'] = data['text'].apply(lambda x : x.lower())\n",
        "\n",
        "# Usunięcie zbędnych elementów\n",
        "data['text'] = data['text'].apply(lambda x : remove_url(x))\n",
        "data['text'] = data['text'].apply(lambda x : remove_ment(x))\n",
        "data['text'] = data['text'].apply(lambda x : remove_punct(x))\n",
        "data['text'] = data['text'].apply(lambda x : remove_emoji(x))\n",
        "\n",
        "# Reszta cyszczenia\n",
        "data['text'] = data['text'].apply(lambda x : unique_char(cont_rep_char,x))\n",
        "data['text'] = data['text'].apply(lambda x : remove_stopwords(x))\n",
        "\n",
        "# Usunięcie duplikatów\n",
        "data = data.drop_duplicates(subset=['text'])\n",
        "\n",
        "# Usunięcie pustych wartości\n",
        "data = data.dropna(subset=['text'])\n",
        "\n",
        "data.to_csv('clearTwitter.csv', index=False)"
      ]
    },
    {
      "cell_type": "code",
      "execution_count": 5,
      "metadata": {},
      "outputs": [
        {
          "data": {
            "text/html": [
              "<div>\n",
              "<style scoped>\n",
              "    .dataframe tbody tr th:only-of-type {\n",
              "        vertical-align: middle;\n",
              "    }\n",
              "\n",
              "    .dataframe tbody tr th {\n",
              "        vertical-align: top;\n",
              "    }\n",
              "\n",
              "    .dataframe thead th {\n",
              "        text-align: right;\n",
              "    }\n",
              "</style>\n",
              "<table border=\"1\" class=\"dataframe\">\n",
              "  <thead>\n",
              "    <tr style=\"text-align: right;\">\n",
              "      <th></th>\n",
              "      <th>text</th>\n",
              "      <th>sentiment</th>\n",
              "    </tr>\n",
              "  </thead>\n",
              "  <tbody>\n",
              "    <tr>\n",
              "      <th>0</th>\n",
              "      <td>modi promised minimum government maximum governance expected begin difficult job reforming state take years get justice state not business exit psus temples</td>\n",
              "      <td>negative</td>\n",
              "    </tr>\n",
              "    <tr>\n",
              "      <th>1</th>\n",
              "      <td>talk nonsense continue drama vote modi</td>\n",
              "      <td>neutral</td>\n",
              "    </tr>\n",
              "    <tr>\n",
              "      <th>2</th>\n",
              "      <td>say vote modi welcome bjp told rahul main campaigner modi think modi relax</td>\n",
              "      <td>positive</td>\n",
              "    </tr>\n",
              "    <tr>\n",
              "      <th>3</th>\n",
              "      <td>asking supporters prefix chowkidar names modi great service confusion read not crustal clear crass filthy nonsensical see abuses coming chowkidars</td>\n",
              "      <td>positive</td>\n",
              "    </tr>\n",
              "    <tr>\n",
              "      <th>4</th>\n",
              "      <td>answer among powerful world leader today trump putin modi may</td>\n",
              "      <td>positive</td>\n",
              "    </tr>\n",
              "  </tbody>\n",
              "</table>\n",
              "</div>"
            ],
            "text/plain": [
              "                                                                                                                                                           text  \\\n",
              "0  modi promised minimum government maximum governance expected begin difficult job reforming state take years get justice state not business exit psus temples   \n",
              "1                                                                                                                        talk nonsense continue drama vote modi   \n",
              "2                                                                                    say vote modi welcome bjp told rahul main campaigner modi think modi relax   \n",
              "3            asking supporters prefix chowkidar names modi great service confusion read not crustal clear crass filthy nonsensical see abuses coming chowkidars   \n",
              "4                                                                                                 answer among powerful world leader today trump putin modi may   \n",
              "\n",
              "  sentiment  \n",
              "0  negative  \n",
              "1   neutral  \n",
              "2  positive  \n",
              "3  positive  \n",
              "4  positive  "
            ]
          },
          "execution_count": 5,
          "metadata": {},
          "output_type": "execute_result"
        }
      ],
      "source": [
        "pd.set_option('display.max_colwidth', None)\n",
        "data.head()"
      ]
    },
    {
      "cell_type": "markdown",
      "metadata": {
        "id": "XHwLnSQ6vjE_"
      },
      "source": [
        "# Model trainning"
      ]
    },
    {
      "cell_type": "code",
      "execution_count": 65,
      "metadata": {
        "colab": {
          "base_uri": "https://localhost:8080/",
          "height": 518
        },
        "id": "FYHvFAPNvjFA",
        "outputId": "aff61d7f-b3f9-4017-8f07-78453439e42e"
      },
      "outputs": [
        {
          "name": "stdout",
          "output_type": "stream",
          "text": [
            "Device: cuda\n",
            "{0, 1, 2}\n",
            "Number of classes: 3\n",
            "X_train_tensor shape: torch.Size([31363, 32])\n",
            "y_train_tensor shape: torch.Size([31363])\n",
            "Class Counts: [ 7344 10534 13485]\n",
            "Class Weights: [1.36165577e-04 9.49307006e-05 7.41564702e-05]\n",
            "tensor([[  0,   0,   0,  ...,  21, 461,  62],\n",
            "        [  0,   0,   0,  ..., 657, 445, 505],\n",
            "        [  0,   0,   0,  ...,   7, 514, 658],\n",
            "        ...,\n",
            "        [  0,   0,   0,  ...,   3,   3, 197],\n",
            "        [  0,   0,   0,  ...,  36, 558, 657],\n",
            "        [  0,   0,   0,  ...,   8,   1, 505]])\n"
          ]
        }
      ],
      "source": [
        "from keras.preprocessing.sequence import pad_sequences\n",
        "import torch.nn as nn\n",
        "import torch\n",
        "from tensorflow.keras.preprocessing.text import Tokenizer\n",
        "from torch.utils.data import DataLoader, TensorDataset, WeightedRandomSampler\n",
        "from tensorflow.keras.preprocessing.sequence import pad_sequences\n",
        "# from transformers.modeling_outputs import SequenceClassifierOutput\n",
        "\n",
        "vocab_size = 1000\n",
        "embedding_dim = 200\n",
        "num_classes = 3\n",
        "tokenizer = Tokenizer(num_words = vocab_size, split=' ')\n",
        "tokenizer.fit_on_texts(data['text'].values)\n",
        "train_tokens = tokenizer.texts_to_sequences(data['text'].values)\n",
        "train_tokens = pad_sequences(train_tokens)\n",
        "\n",
        "#get attention mask\n",
        "attention_mask = np.where(train_tokens != 0, 1, 0)\n",
        "attention_mask = torch.tensor(attention_mask, dtype=torch.long)\n",
        "\n",
        "class TextClassificationModel(nn.Module):\n",
        "    def __init__(self, vocab_size, embedding_dim, num_classes):\n",
        "        super(TextClassificationModel, self).__init__()\n",
        "        self.embedding = nn.Embedding(vocab_size, embedding_dim, dtype=torch.float32)\n",
        "        self.lstm = nn.LSTM(embedding_dim, 64, batch_first=True)\n",
        "        self.dropout = nn.Dropout(0.5)\n",
        "        self.fc = nn.Linear(64, num_classes)\n",
        "        self.softmax = nn.Softmax(dim=1)\n",
        "\n",
        "    def forward(self, x):\n",
        "        x = self.embedding(x)\n",
        "        x, _ = self.lstm(x)\n",
        "        x = self.dropout(x[:, -1, :]) \n",
        "        x = self.fc(x)\n",
        "        return x.softmax(dim=1)\n",
        "    \n",
        "# # Initialize the model\n",
        "device = torch.device(\"cuda\" if torch.cuda.is_available() else \"cpu\")\n",
        "# device = torch.device(\"cpu\")\n",
        "\n",
        "print(\"Device:\", device)\n",
        "\n",
        "model = TextClassificationModel(vocab_size, embedding_dim, num_classes).to(device)\n",
        "\n",
        "# Przygotowanie danych do modelu\n",
        "X = train_tokens[:]\n",
        "y = data['sentiment']\n",
        "\n",
        "X = np.array(X)\n",
        "y = np.array(y)\n",
        "\n",
        "# Zakodowanie etykiet tekstowych na numeryczne\n",
        "label_encoder = LabelEncoder()\n",
        "y_encoded = label_encoder.fit_transform(y)\n",
        "\n",
        "\n",
        "num_classes = len(set(y_encoded))\n",
        "print(set(y_encoded))\n",
        "print(\"Number of classes:\", num_classes)\n",
        "\n",
        "# Podział na zbiór treningowy i testowy\n",
        "X_train, X_test, y_train, y_test = train_test_split(X, y_encoded, test_size=0.2)\n",
        "\n",
        "attention_mask_train = attention_mask[X_train]\n",
        "attention_mask_test = attention_mask[X_test]\n",
        "\n",
        "\n",
        "# Przygotowanie danych do modelu\n",
        "X_train = torch.tensor(X_train, dtype=torch.long)\n",
        "y_train = torch.tensor(y_train, dtype=torch.long)\n",
        "X_test = torch.tensor(X_test, dtype=torch.long)\n",
        "y_test = torch.tensor(y_test, dtype=torch.long)\n",
        "\n",
        "# get attention mask for train and test data\n",
        "\n",
        "\n",
        "train_dataset = TensorDataset(X_train, y_train)\n",
        "test_dataset = TensorDataset(X_test, y_test)\n",
        "trainAttentionMask = TensorDataset(X_train, attention_mask_train, y_train)\n",
        "testAttentionMask = TensorDataset(X_test, attention_mask_test, y_test)\n",
        "\n",
        "print(\"X_train_tensor shape:\", X_train.shape)\n",
        "print(\"y_train_tensor shape:\", y_train.shape)\n",
        "\n",
        "# Calculate class weights\n",
        "class_counts = np.bincount(y_train)\n",
        "class_weights = 1.0 / class_counts\n",
        "sample_weights = class_weights[y_train]\n",
        "\n",
        "# Print class counts and weights (optional)\n",
        "print(\"Class Counts:\", class_counts)\n",
        "print(\"Class Weights:\", class_weights)\n",
        "\n",
        "sampler = WeightedRandomSampler(weights= sample_weights, num_samples=len(sample_weights), replacement=True)\n",
        "\n",
        "# DataLoader for training and testing\n",
        "train_loader = DataLoader(train_dataset, batch_size=128,) #sampler= sampler) # True\n",
        "test_loader = DataLoader(test_dataset, batch_size=128,) #sampler= sampler)\n",
        "\n",
        "# DataLoader for attention mask\n",
        "train_loader_attention_mask = DataLoader(trainAttentionMask, batch_size=32,) #sampler= sampler) # True\n",
        "test_loader_attention_mask = DataLoader(testAttentionMask, batch_size=32,) #sampler= sampler)\n",
        "\n",
        "criterion = nn.CrossEntropyLoss()\n",
        "optimizer = torch.optim.Adam(model.parameters(), lr=0.001)\n",
        "\n",
        "print(next(iter(test_loader))[0])\n",
        "\n",
        "def train(dataloader, model, criterion, optimizer, epoch):\n",
        "    model.train()\n",
        "    total_loss = 0\n",
        "    total_acc = 0\n",
        "    total_count = 0\n",
        "    log_interval = 1000\n",
        "\n",
        "    for i, (data, targets) in enumerate(dataloader):\n",
        "        data, targets = data.to(device), targets.to(device)\n",
        "        optimizer.zero_grad()\n",
        "        output = model(data)\n",
        "        loss = criterion(output, targets)\n",
        "        loss.backward()\n",
        "        torch.nn.utils.clip_grad_norm_(model.parameters(), 0.1)\n",
        "        optimizer.step()\n",
        "        \n",
        "        total_loss += loss.item()\n",
        "        total_acc += (output.argmax(1) == targets).sum().item()\n",
        "        total_count += targets.size(0)\n",
        "    \n",
        "    return total_loss / len(dataloader)\n",
        "\n",
        "def evaluate(dataloader, model, criterion):\n",
        "    model.eval()\n",
        "    total_loss = 0\n",
        "    total_acc = 0 # accuracy\n",
        "    total_count = 0\n",
        "    with torch.no_grad():\n",
        "        for i, (data, targets) in enumerate(dataloader):\n",
        "            data, targets = data.to(device), targets.to(device)\n",
        "            output = model(data)\n",
        "            loss = criterion(output, targets)\n",
        "            total_loss += loss.item() # sum of loss\n",
        "            total_acc += (output.argmax(1) == targets).sum().item() #  count correct predictions\n",
        "            total_count += targets.size(0)\n",
        "    return total_loss / len(dataloader), total_acc / total_count"
      ]
    },
    {
      "cell_type": "code",
      "execution_count": 60,
      "metadata": {},
      "outputs": [
        {
          "name": "stdout",
          "output_type": "stream",
          "text": [
            "| End of Epoch: 01 | Test Loss: 0.89771 | Test Accuracy: 0.64507\n",
            "| End of Epoch: 02 | Test Loss: 0.81107 | Test Accuracy: 0.73919\n",
            "| End of Epoch: 03 | Test Loss: 0.77831 | Test Accuracy: 0.77120\n",
            "| End of Epoch: 04 | Test Loss: 0.76747 | Test Accuracy: 0.78179\n",
            "| End of Epoch: 05 | Test Loss: 0.76183 | Test Accuracy: 0.78727\n",
            "| End of Epoch: 06 | Test Loss: 0.76194 | Test Accuracy: 0.78612\n",
            "| End of Epoch: 07 | Test Loss: 0.75812 | Test Accuracy: 0.79123\n",
            "| End of Epoch: 08 | Test Loss: 0.75658 | Test Accuracy: 0.79148\n",
            "| End of Epoch: 09 | Test Loss: 0.75726 | Test Accuracy: 0.79135\n",
            "| End of Epoch: 10 | Test Loss: 0.75594 | Test Accuracy: 0.79186\n"
          ]
        }
      ],
      "source": [
        "epochs = 10\n",
        "# train model and save loss for plotting\n",
        "\n",
        "train_loss = []\n",
        "test_loss = []\n",
        "train_acc = []\n",
        "test_acc = []\n",
        "torch.set_grad_enabled(True)\n",
        "\n",
        "for epoch in range(1, epochs + 1):\n",
        "    train_epoch_loss = train(train_loader, model, criterion, optimizer, epoch)\n",
        "    test_epoch_loss, accuracy = evaluate(test_loader, model, criterion)\n",
        "    \n",
        "    train_loss.append(train_epoch_loss)\n",
        "    test_loss.append(test_epoch_loss)\n",
        "    test_acc.append(accuracy)\n",
        "\n",
        "    print(f'| End of Epoch: {epoch:02} | Test Loss: {test_epoch_loss:.5f} | Test Accuracy: {accuracy:.5f}')\n",
        "\n",
        "# save model\n",
        "torch.save(model.state_dict(), 'model.pth')\n"
      ]
    },
    {
      "cell_type": "code",
      "execution_count": 61,
      "metadata": {},
      "outputs": [
        {
          "data": {
            "text/plain": [
              "<matplotlib.legend.Legend at 0x7f7bf39fb9a0>"
            ]
          },
          "execution_count": 61,
          "metadata": {},
          "output_type": "execute_result"
        },
        {
          "data": {
            "image/png": "[encoded data removed]",
            "text/plain": [
              "<Figure size 1000x500 with 1 Axes>"
            ]
          },
          "metadata": {},
          "output_type": "display_data"
        }
      ],
      "source": [
        "# Plot loss\n",
        "plt.figure(figsize=(10,5))\n",
        "plt.plot(test_loss, label='Test Loss')\n",
        "plt.plot(test_acc, label='Test Accuracy')\n",
        "plt.xlabel('Epoch')\n",
        "plt.ylabel('Loss')\n",
        "plt.legend()"
      ]
    },
    {
      "cell_type": "code",
      "execution_count": 64,
      "metadata": {},
      "outputs": [
        {
          "data": {
            "text/plain": [
              "<matplotlib.legend.Legend at 0x7f7be357a8c0>"
            ]
          },
          "execution_count": 64,
          "metadata": {},
          "output_type": "execute_result"
        },
        {
          "data": {
            "image/png": "[encoded data removed]",
            "text/plain": [
              "<Figure size 1000x500 with 1 Axes>"
            ]
          },
          "metadata": {},
          "output_type": "display_data"
        }
      ],
      "source": [
        "# plot accuracy\n",
        "plt.figure(figsize=(10,5))\n",
        "plt.plot(test_acc, label='Test Accuracy')\n",
        "plt.xlabel('Epoch')\n",
        "plt.ylabel('Accuracy')\n",
        "plt.legend()\n"
      ]
    },
    {
      "cell_type": "markdown",
      "metadata": {
        "id": "VLlphuQxvjFA"
      },
      "source": [
        "# SHAP analysis"
      ]
    },
    {
      "cell_type": "code",
      "execution_count": null,
      "metadata": {
        "id": "4Z2ipyU8vjFA"
      },
      "outputs": [
        {
          "ename": "RuntimeError",
          "evalue": "only Tensors of floating point dtype can require gradients",
          "output_type": "error",
          "traceback": [
            "\u001b[0;31m---------------------------------------------------------------------------\u001b[0m",
            "\u001b[0;31mRuntimeError\u001b[0m                              Traceback (most recent call last)",
            "Cell \u001b[0;32mIn[6], line 42\u001b[0m\n\u001b[1;32m     39\u001b[0m background \u001b[38;5;241m=\u001b[39m X[:\u001b[38;5;241m100\u001b[39m]\n\u001b[1;32m     41\u001b[0m expl \u001b[38;5;241m=\u001b[39m shap\u001b[38;5;241m.\u001b[39mDeepExplainer(model, background)\n\u001b[0;32m---> 42\u001b[0m shap_values \u001b[38;5;241m=\u001b[39m \u001b[43mexpl\u001b[49m\u001b[38;5;241;43m.\u001b[39;49m\u001b[43mshap_values\u001b[49m\u001b[43m(\u001b[49m\u001b[43mX\u001b[49m\u001b[43m)\u001b[49m\n\u001b[1;32m     44\u001b[0m \u001b[38;5;66;03m# # Utworzenie DataLoader\u001b[39;00m\n\u001b[1;32m     45\u001b[0m \u001b[38;5;66;03m# data_loader = DataLoader(X, batch_size=64)\u001b[39;00m\n\u001b[1;32m     46\u001b[0m \n\u001b[0;32m   (...)\u001b[0m\n\u001b[1;32m     60\u001b[0m \u001b[38;5;66;03m# # Obliczanie wartości SHAP\u001b[39;00m\n\u001b[1;32m     61\u001b[0m \u001b[38;5;66;03m# shap_values = explainer.shap_values(X[:1000])\u001b[39;00m\n",
            "File \u001b[0;32m~/.local/lib/python3.10/site-packages/shap/explainers/_deep/__init__.py:159\u001b[0m, in \u001b[0;36mDeepExplainer.shap_values\u001b[0;34m(self, X, ranked_outputs, output_rank_order, check_additivity)\u001b[0m\n\u001b[1;32m    115\u001b[0m \u001b[38;5;28;01mdef\u001b[39;00m \u001b[38;5;21mshap_values\u001b[39m(\u001b[38;5;28mself\u001b[39m, X, ranked_outputs\u001b[38;5;241m=\u001b[39m\u001b[38;5;28;01mNone\u001b[39;00m, output_rank_order\u001b[38;5;241m=\u001b[39m\u001b[38;5;124m'\u001b[39m\u001b[38;5;124mmax\u001b[39m\u001b[38;5;124m'\u001b[39m, check_additivity\u001b[38;5;241m=\u001b[39m\u001b[38;5;28;01mTrue\u001b[39;00m):\n\u001b[1;32m    116\u001b[0m \u001b[38;5;250m    \u001b[39m\u001b[38;5;124;03m\"\"\"Return approximate SHAP values for the model applied to the data given by X.\u001b[39;00m\n\u001b[1;32m    117\u001b[0m \n\u001b[1;32m    118\u001b[0m \u001b[38;5;124;03m    Parameters\u001b[39;00m\n\u001b[0;32m   (...)\u001b[0m\n\u001b[1;32m    157\u001b[0m \n\u001b[1;32m    158\u001b[0m \u001b[38;5;124;03m    \"\"\"\u001b[39;00m\n\u001b[0;32m--> 159\u001b[0m     \u001b[38;5;28;01mreturn\u001b[39;00m \u001b[38;5;28;43mself\u001b[39;49m\u001b[38;5;241;43m.\u001b[39;49m\u001b[43mexplainer\u001b[49m\u001b[38;5;241;43m.\u001b[39;49m\u001b[43mshap_values\u001b[49m\u001b[43m(\u001b[49m\u001b[43mX\u001b[49m\u001b[43m,\u001b[49m\u001b[43m \u001b[49m\u001b[43mranked_outputs\u001b[49m\u001b[43m,\u001b[49m\u001b[43m \u001b[49m\u001b[43moutput_rank_order\u001b[49m\u001b[43m,\u001b[49m\u001b[43m \u001b[49m\u001b[43mcheck_additivity\u001b[49m\u001b[38;5;241;43m=\u001b[39;49m\u001b[43mcheck_additivity\u001b[49m\u001b[43m)\u001b[49m\n",
            "File \u001b[0;32m~/.local/lib/python3.10/site-packages/shap/explainers/_deep/deep_pytorch.py:186\u001b[0m, in \u001b[0;36mPyTorchDeep.shap_values\u001b[0;34m(self, X, ranked_outputs, output_rank_order, check_additivity)\u001b[0m\n\u001b[1;32m    184\u001b[0m \u001b[38;5;66;03m# run attribution computation graph\u001b[39;00m\n\u001b[1;32m    185\u001b[0m feature_ind \u001b[38;5;241m=\u001b[39m model_output_ranks[j, i]\n\u001b[0;32m--> 186\u001b[0m sample_phis \u001b[38;5;241m=\u001b[39m \u001b[38;5;28;43mself\u001b[39;49m\u001b[38;5;241;43m.\u001b[39;49m\u001b[43mgradient\u001b[49m\u001b[43m(\u001b[49m\u001b[43mfeature_ind\u001b[49m\u001b[43m,\u001b[49m\u001b[43m \u001b[49m\u001b[43mjoint_x\u001b[49m\u001b[43m)\u001b[49m\n\u001b[1;32m    187\u001b[0m \u001b[38;5;66;03m# assign the attributions to the right part of the output arrays\u001b[39;00m\n\u001b[1;32m    188\u001b[0m \u001b[38;5;28;01mif\u001b[39;00m \u001b[38;5;28mself\u001b[39m\u001b[38;5;241m.\u001b[39minterim:\n",
            "File \u001b[0;32m~/.local/lib/python3.10/site-packages/shap/explainers/_deep/deep_pytorch.py:100\u001b[0m, in \u001b[0;36mPyTorchDeep.gradient\u001b[0;34m(self, idx, inputs)\u001b[0m\n\u001b[1;32m     98\u001b[0m \u001b[38;5;28;01mimport\u001b[39;00m \u001b[38;5;21;01mtorch\u001b[39;00m\n\u001b[1;32m     99\u001b[0m \u001b[38;5;28mself\u001b[39m\u001b[38;5;241m.\u001b[39mmodel\u001b[38;5;241m.\u001b[39mzero_grad()\n\u001b[0;32m--> 100\u001b[0m X \u001b[38;5;241m=\u001b[39m [x\u001b[38;5;241m.\u001b[39mrequires_grad_() \u001b[38;5;28;01mfor\u001b[39;00m x \u001b[38;5;129;01min\u001b[39;00m inputs]\n\u001b[1;32m    101\u001b[0m outputs \u001b[38;5;241m=\u001b[39m \u001b[38;5;28mself\u001b[39m\u001b[38;5;241m.\u001b[39mmodel(\u001b[38;5;241m*\u001b[39mX)\n\u001b[1;32m    102\u001b[0m selected \u001b[38;5;241m=\u001b[39m [val \u001b[38;5;28;01mfor\u001b[39;00m val \u001b[38;5;129;01min\u001b[39;00m outputs[:, idx]]\n",
            "File \u001b[0;32m~/.local/lib/python3.10/site-packages/shap/explainers/_deep/deep_pytorch.py:100\u001b[0m, in \u001b[0;36m<listcomp>\u001b[0;34m(.0)\u001b[0m\n\u001b[1;32m     98\u001b[0m \u001b[38;5;28;01mimport\u001b[39;00m \u001b[38;5;21;01mtorch\u001b[39;00m\n\u001b[1;32m     99\u001b[0m \u001b[38;5;28mself\u001b[39m\u001b[38;5;241m.\u001b[39mmodel\u001b[38;5;241m.\u001b[39mzero_grad()\n\u001b[0;32m--> 100\u001b[0m X \u001b[38;5;241m=\u001b[39m [\u001b[43mx\u001b[49m\u001b[38;5;241;43m.\u001b[39;49m\u001b[43mrequires_grad_\u001b[49m\u001b[43m(\u001b[49m\u001b[43m)\u001b[49m \u001b[38;5;28;01mfor\u001b[39;00m x \u001b[38;5;129;01min\u001b[39;00m inputs]\n\u001b[1;32m    101\u001b[0m outputs \u001b[38;5;241m=\u001b[39m \u001b[38;5;28mself\u001b[39m\u001b[38;5;241m.\u001b[39mmodel(\u001b[38;5;241m*\u001b[39mX)\n\u001b[1;32m    102\u001b[0m selected \u001b[38;5;241m=\u001b[39m [val \u001b[38;5;28;01mfor\u001b[39;00m val \u001b[38;5;129;01min\u001b[39;00m outputs[:, idx]]\n",
            "\u001b[0;31mRuntimeError\u001b[0m: only Tensors of floating point dtype can require gradients"
          ]
        }
      ],
      "source": [
        "# load model from file,\n",
        "from torch.autograd import Variable\n",
        "model = TextClassificationModel(vocab_size, embedding_dim, num_classes)\n",
        "model.load_state_dict(torch.load('model.pth'))\n",
        "model.to(device)\n",
        "torch.set_grad_enabled(False)\n",
        "# device = torch.device(\"cpu\")\n",
        "\n",
        "tokenizer = Tokenizer(num_words = vocab_size, split=' ')\n",
        "\n",
        "readTrump = pd.read_csv('realdonaldtrump.csv')    \n",
        "\n",
        "# Ustawienie wszystkich liter na małe\n",
        "readTrump['content'] = readTrump['content'].apply(lambda x : x.lower())\n",
        "\n",
        "# Usunięcie zbędnych elementów\n",
        "readTrump['content'] = readTrump['content'].apply(lambda x : remove_url(x))\n",
        "readTrump['content'] = readTrump['content'].apply(lambda x : remove_ment(x))\n",
        "readTrump['content'] = readTrump['content'].apply(lambda x : remove_punct(x))\n",
        "readTrump['content'] = readTrump['content'].apply(lambda x : remove_emoji(x))\n",
        "\n",
        "# Reszta cyszczenia\n",
        "readTrump['content'] = readTrump['content'].apply(lambda x : unique_char(cont_rep_char,x))\n",
        "readTrump['content'] = readTrump['content'].apply(lambda x : remove_stopwords(x))\n",
        "\n",
        "# Usunięcie duplikatów\n",
        "readTrump = readTrump.drop_duplicates(subset=['content'])\n",
        "\n",
        "# Usunięcie pustych wartości\n",
        "readTrump = readTrump.dropna(subset=['content'])\n",
        "readTrump.drop([\"id\",\"link\",\"date\",\"retweets\",\"favorites\",\"mentions\",\"hashtags\"], axis=1, inplace=True)\n",
        "\n",
        "readTrump.to_csv('clearTrump.csv', index=False)\n",
        "tokenizer.fit_on_texts(data['text'].values)\n",
        "train_tokens = tokenizer.texts_to_sequences(data['text'].values)\n",
        "X = pad_sequences(train_tokens)\n",
        "X = torch.tensor(X, dtype=torch.long).to(device).requires_grad_(False).to(torch.long)\n",
        "\n",
        "background = X[:100]\n",
        "\n",
        "expl = shap.DeepExplainer(model, background)\n",
        "shap_values = expl.shap_values(X)\n",
        "\n",
        "# # Utworzenie DataLoader\n",
        "data_loader = DataLoader(X, batch_size=64)\n",
        "\n",
        "f = lambda x: model( Variable( torch.from_numpy(x) ) ).detach().numpy()\n",
        "\n",
        "# # Pobranie batcha danych\n",
        "batch = next(iter(data_loader))\n",
        "trumpdata = batch\n",
        "\n",
        "# # Przygotowanie tła dla SHAP\n",
        "background = trumpdata[:100]\n",
        "background = background.requires_grad_(False).to(torch.long)\n",
        "\n",
        "# # Ustawienie SHAP\n",
        "explainer = shap.DeepExplainer(f, background)\n",
        "\n",
        "# # Obliczanie wartości SHAP\n",
        "shap_values = explainer.shap_values(X[:1000])"
      ]
    }
  ],
  "metadata": {
    "colab": {
      "provenance": []
    },
    "kernelspec": {
      "display_name": "Python 3",
      "name": "python3"
    },
    "language_info": {
      "codemirror_mode": {
        "name": "ipython",
        "version": 3
      },
      "file_extension": ".py",
      "mimetype": "text/x-python",
      "name": "python",
      "nbconvert_exporter": "python",
      "pygments_lexer": "ipython3",
      "version": "3.10.12"
    }
  },
  "nbformat": 4,
  "nbformat_minor": 0
}
